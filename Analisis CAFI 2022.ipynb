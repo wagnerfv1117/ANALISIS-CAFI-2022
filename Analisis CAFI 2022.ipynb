{
 "cells": [
  {
   "attachments": {},
   "cell_type": "markdown",
   "metadata": {},
   "source": [
    "## Informe análisis de gastos CAFI año 2022\n",
    "\n"
   ]
  },
  {
   "attachments": {},
   "cell_type": "markdown",
   "metadata": {},
   "source": [
    "### Introducción\n",
    "\n"
   ]
  },
  {
   "attachments": {},
   "cell_type": "markdown",
   "metadata": {},
   "source": [
    "<p style=\"text-align: justify;\">En este informe, se mostrará el analisis de los gastos mensuales que se han generado en el año 2022 mediante el componente de SAGEN/CAFI.</p>\n",
    "\n",
    "<p style=\"text-align: justify;\">Se documenta el informe, como se ha escrito, se aplicarán tecnicas concernientes a la tendencia central (estadistica), para saber datos o rangos relevantes en los datos que se analizarán, los cuales sirven para una toma de decisiones desde el ambito estratégico.</p>\n",
    "\n",
    "<p style=\"text-align: justify;\">El algoritmo, fue desarrollado en el lenguaje de programación Python, basado en el libro de (Roldán, 2022)</p>\n",
    "\n",
    "*Nota: Para acceder a la página oficial del lenguaje de programación es: https://www.python.org/*"
   ]
  },
  {
   "attachments": {},
   "cell_type": "markdown",
   "metadata": {},
   "source": [
    "### 1 - Fase de analisis"
   ]
  },
  {
   "attachments": {},
   "cell_type": "markdown",
   "metadata": {},
   "source": [
    "<p style=\"text-align: justify;\">En este informe, se mostrará el analisis de los gastos mensuales que se han generado en el año 2022 mediante el componente de SAGEN/CAFI.</p>"
   ]
  },
  {
   "attachments": {},
   "cell_type": "markdown",
   "metadata": {},
   "source": [
    "#### 1.1 - Importe de librerías o APIs necesarias para procesar o analizar la información"
   ]
  },
  {
   "cell_type": "code",
   "execution_count": 1,
   "metadata": {},
   "outputs": [],
   "source": [
    "#Se procede con importar las librerías necesarias para procesar los datos:\n",
    "import numpy as np # procesamiento matemático de numeros\n",
    "import pandas as pd # a base de numpy para procesar numeros, letras y caracteres especiales\n",
    "import matplotlib.pyplot as plt # para crear imagenes\n",
    "import seaborn as sns # para crear y personalizar imagenes y objetos\n",
    "import scipy.stats as ss # para calculos estadisticos (estadistica descriptiva)\n",
    "import plotly.express as px #Librería para hacer gráficos interactivos"
   ]
  },
  {
   "attachments": {},
   "cell_type": "markdown",
   "metadata": {},
   "source": [
    "#### 1.2 - Leer la información de la fuente de datos"
   ]
  },
  {
   "cell_type": "code",
   "execution_count": 2,
   "metadata": {},
   "outputs": [
    {
     "name": "stdout",
     "output_type": "stream",
     "text": [
      "       GASTO X MES    MONTO\n",
      "0        MES ENERO   886857\n",
      "1      MES FEBRERO  1963280\n",
      "2        MES MARZO   591890\n",
      "3        MES ABRIL   997600\n",
      "4         MES MAYO   937420\n",
      "5        MES JUNIO  1072995\n",
      "6        MES JULIO  2139441\n",
      "7       MES AGOSTO  1420911\n",
      "8   MES SEPTIEMBRE  1728680\n",
      "9      MES OCTUBRE  2928550\n",
      "10   MES NOVIEMBRE  1520022\n",
      "11   MES DICIEMBRE  2078970\n"
     ]
    }
   ],
   "source": [
    "#Se toma el modulo \"df\" (DataFrame) de la librería de pandas, para leer el archivo Excel\n",
    "\n",
    "df = pd.read_excel(\"C:/Users/wagne/Downloads/ANALISIS-CAFI-2022/data/GASTOSXTC.xlsx\")#función de la librería pandas para poder leer los datos preprocesadsos\n",
    "print(df)# orden a la maquina para que imprima el DataFrame\n"
   ]
  },
  {
   "attachments": {},
   "cell_type": "markdown",
   "metadata": {},
   "source": [
    "#### 1.3 - Conversión y codificación de los datos anteriormente leídos"
   ]
  },
  {
   "cell_type": "code",
   "execution_count": 3,
   "metadata": {},
   "outputs": [],
   "source": [
    "#Conversión del archivo Excel a .csv delimitado por comas, con codificación internacional\n",
    "df.to_csv('reports/gastos.csv', encoding=\"utf-8\")#conversión y codificación del df"
   ]
  },
  {
   "attachments": {},
   "cell_type": "markdown",
   "metadata": {},
   "source": [
    "<p style=\"text-align: justify;\">Se procede con que se lea el archivo delimitado por comas:</p>"
   ]
  },
  {
   "cell_type": "code",
   "execution_count": 4,
   "metadata": {},
   "outputs": [
    {
     "name": "stdout",
     "output_type": "stream",
     "text": [
      "    Unnamed: 0     GASTO X MES    MONTO\n",
      "0            0       MES ENERO   886857\n",
      "1            1     MES FEBRERO  1963280\n",
      "2            2       MES MARZO   591890\n",
      "3            3       MES ABRIL   997600\n",
      "4            4        MES MAYO   937420\n",
      "5            5       MES JUNIO  1072995\n",
      "6            6       MES JULIO  2139441\n",
      "7            7      MES AGOSTO  1420911\n",
      "8            8  MES SEPTIEMBRE  1728680\n",
      "9            9     MES OCTUBRE  2928550\n",
      "10          10   MES NOVIEMBRE  1520022\n",
      "11          11   MES DICIEMBRE  2078970\n"
     ]
    }
   ],
   "source": [
    "df = pd.read_csv(\"reports/gastos.csv\")#lectura del del archivo convertido\n",
    "print(df)#impresión del nuevo df"
   ]
  },
  {
   "attachments": {},
   "cell_type": "markdown",
   "metadata": {},
   "source": [
    "<p style=\"text-align: justify;\">Limpieza de datos (Data Cleaning): hay una columna en la cual se redundan datos, se hará un metodo para borrarla.</p>"
   ]
  },
  {
   "cell_type": "code",
   "execution_count": 5,
   "metadata": {},
   "outputs": [],
   "source": [
    "df.drop('Unnamed: 0',axis=1,inplace=True) #eliminar columna con el metodo \"drop\" de la librería de pandas"
   ]
  },
  {
   "attachments": {},
   "cell_type": "markdown",
   "metadata": {},
   "source": [
    "#### 1.4 - Crear tabla con colorido en sus datos según su valor"
   ]
  },
  {
   "attachments": {},
   "cell_type": "markdown",
   "metadata": {},
   "source": [
    "<p style=\"text-align: justify;\">En este caso, se hará un método para que el DataFrame, muestre con colores fuertes los valores más altos; y los valores más bajos se vaya bajando la intensidad del color.</p>\n",
    "<p style=\"text-align: justify;\">Estas bondades son las que ofrece la librería Seaborn con su modulo sns.</p>"
   ]
  },
  {
   "cell_type": "code",
   "execution_count": 6,
   "metadata": {},
   "outputs": [
    {
     "name": "stdout",
     "output_type": "stream",
     "text": [
      "pintando los valores del DataFrame\n",
      "GASTOS EJECUTADOS POR MES - 2022(DE MENOR A MAYOR)\n"
     ]
    },
    {
     "name": "stderr",
     "output_type": "stream",
     "text": [
      "C:\\Users\\wagne\\AppData\\Local\\Temp\\ipykernel_12004\\1305859247.py:4: FutureWarning: this method is deprecated in favour of `Styler.format(precision=..)`\n",
      "  df.style.background_gradient(cmap=cm).set_precision(3)#Precisión de valores y estilo del df\n"
     ]
    },
    {
     "data": {
      "text/html": [
       "<style type=\"text/css\">\n",
       "#T_32846_row0_col1 {\n",
       "  background-color: #f4d2d2;\n",
       "  color: #000000;\n",
       "}\n",
       "#T_32846_row1_col1 {\n",
       "  background-color: #fa6363;\n",
       "  color: #f1f1f1;\n",
       "}\n",
       "#T_32846_row2_col1 {\n",
       "  background-color: #f3f0f0;\n",
       "  color: #000000;\n",
       "}\n",
       "#T_32846_row3_col1 {\n",
       "  background-color: #f5c7c7;\n",
       "  color: #000000;\n",
       "}\n",
       "#T_32846_row4_col1 {\n",
       "  background-color: #f5cdcd;\n",
       "  color: #000000;\n",
       "}\n",
       "#T_32846_row5_col1 {\n",
       "  background-color: #f5bfbf;\n",
       "  color: #000000;\n",
       "}\n",
       "#T_32846_row6_col1 {\n",
       "  background-color: #fb5151;\n",
       "  color: #f1f1f1;\n",
       "}\n",
       "#T_32846_row7_col1 {\n",
       "  background-color: #f79b9b;\n",
       "  color: #000000;\n",
       "}\n",
       "#T_32846_row8_col1 {\n",
       "  background-color: #f97b7b;\n",
       "  color: #f1f1f1;\n",
       "}\n",
       "#T_32846_row9_col1 {\n",
       "  background-color: #ff0000;\n",
       "  color: #f1f1f1;\n",
       "}\n",
       "#T_32846_row10_col1 {\n",
       "  background-color: #f89191;\n",
       "  color: #000000;\n",
       "}\n",
       "#T_32846_row11_col1 {\n",
       "  background-color: #fb5858;\n",
       "  color: #f1f1f1;\n",
       "}\n",
       "</style>\n",
       "<table id=\"T_32846\">\n",
       "  <thead>\n",
       "    <tr>\n",
       "      <th class=\"blank level0\" >&nbsp;</th>\n",
       "      <th id=\"T_32846_level0_col0\" class=\"col_heading level0 col0\" >GASTO X MES</th>\n",
       "      <th id=\"T_32846_level0_col1\" class=\"col_heading level0 col1\" >MONTO</th>\n",
       "    </tr>\n",
       "  </thead>\n",
       "  <tbody>\n",
       "    <tr>\n",
       "      <th id=\"T_32846_level0_row0\" class=\"row_heading level0 row0\" >0</th>\n",
       "      <td id=\"T_32846_row0_col0\" class=\"data row0 col0\" >MES ENERO</td>\n",
       "      <td id=\"T_32846_row0_col1\" class=\"data row0 col1\" >886857</td>\n",
       "    </tr>\n",
       "    <tr>\n",
       "      <th id=\"T_32846_level0_row1\" class=\"row_heading level0 row1\" >1</th>\n",
       "      <td id=\"T_32846_row1_col0\" class=\"data row1 col0\" >MES FEBRERO</td>\n",
       "      <td id=\"T_32846_row1_col1\" class=\"data row1 col1\" >1963280</td>\n",
       "    </tr>\n",
       "    <tr>\n",
       "      <th id=\"T_32846_level0_row2\" class=\"row_heading level0 row2\" >2</th>\n",
       "      <td id=\"T_32846_row2_col0\" class=\"data row2 col0\" >MES MARZO</td>\n",
       "      <td id=\"T_32846_row2_col1\" class=\"data row2 col1\" >591890</td>\n",
       "    </tr>\n",
       "    <tr>\n",
       "      <th id=\"T_32846_level0_row3\" class=\"row_heading level0 row3\" >3</th>\n",
       "      <td id=\"T_32846_row3_col0\" class=\"data row3 col0\" >MES ABRIL</td>\n",
       "      <td id=\"T_32846_row3_col1\" class=\"data row3 col1\" >997600</td>\n",
       "    </tr>\n",
       "    <tr>\n",
       "      <th id=\"T_32846_level0_row4\" class=\"row_heading level0 row4\" >4</th>\n",
       "      <td id=\"T_32846_row4_col0\" class=\"data row4 col0\" >MES MAYO</td>\n",
       "      <td id=\"T_32846_row4_col1\" class=\"data row4 col1\" >937420</td>\n",
       "    </tr>\n",
       "    <tr>\n",
       "      <th id=\"T_32846_level0_row5\" class=\"row_heading level0 row5\" >5</th>\n",
       "      <td id=\"T_32846_row5_col0\" class=\"data row5 col0\" >MES JUNIO</td>\n",
       "      <td id=\"T_32846_row5_col1\" class=\"data row5 col1\" >1072995</td>\n",
       "    </tr>\n",
       "    <tr>\n",
       "      <th id=\"T_32846_level0_row6\" class=\"row_heading level0 row6\" >6</th>\n",
       "      <td id=\"T_32846_row6_col0\" class=\"data row6 col0\" >MES JULIO</td>\n",
       "      <td id=\"T_32846_row6_col1\" class=\"data row6 col1\" >2139441</td>\n",
       "    </tr>\n",
       "    <tr>\n",
       "      <th id=\"T_32846_level0_row7\" class=\"row_heading level0 row7\" >7</th>\n",
       "      <td id=\"T_32846_row7_col0\" class=\"data row7 col0\" >MES AGOSTO</td>\n",
       "      <td id=\"T_32846_row7_col1\" class=\"data row7 col1\" >1420911</td>\n",
       "    </tr>\n",
       "    <tr>\n",
       "      <th id=\"T_32846_level0_row8\" class=\"row_heading level0 row8\" >8</th>\n",
       "      <td id=\"T_32846_row8_col0\" class=\"data row8 col0\" >MES SEPTIEMBRE</td>\n",
       "      <td id=\"T_32846_row8_col1\" class=\"data row8 col1\" >1728680</td>\n",
       "    </tr>\n",
       "    <tr>\n",
       "      <th id=\"T_32846_level0_row9\" class=\"row_heading level0 row9\" >9</th>\n",
       "      <td id=\"T_32846_row9_col0\" class=\"data row9 col0\" >MES OCTUBRE</td>\n",
       "      <td id=\"T_32846_row9_col1\" class=\"data row9 col1\" >2928550</td>\n",
       "    </tr>\n",
       "    <tr>\n",
       "      <th id=\"T_32846_level0_row10\" class=\"row_heading level0 row10\" >10</th>\n",
       "      <td id=\"T_32846_row10_col0\" class=\"data row10 col0\" >MES NOVIEMBRE</td>\n",
       "      <td id=\"T_32846_row10_col1\" class=\"data row10 col1\" >1520022</td>\n",
       "    </tr>\n",
       "    <tr>\n",
       "      <th id=\"T_32846_level0_row11\" class=\"row_heading level0 row11\" >11</th>\n",
       "      <td id=\"T_32846_row11_col0\" class=\"data row11 col0\" >MES DICIEMBRE</td>\n",
       "      <td id=\"T_32846_row11_col1\" class=\"data row11 col1\" >2078970</td>\n",
       "    </tr>\n",
       "  </tbody>\n",
       "</table>\n"
      ],
      "text/plain": [
       "<pandas.io.formats.style.Styler at 0x18c15867460>"
      ]
     },
     "execution_count": 6,
     "metadata": {},
     "output_type": "execute_result"
    }
   ],
   "source": [
    "cm = sns.light_palette(\"red\", as_cmap=True)#asignación de colores\n",
    "print(\"pintando los valores del DataFrame\")#impresión de un mensaje\n",
    "print(\"GASTOS EJECUTADOS POR MES - 2022(DE MENOR A MAYOR)\")#titulo para el DataFrame ya procesado\n",
    "df.style.background_gradient(cmap=cm).set_precision(3)#Precisión de valores y estilo del df"
   ]
  },
  {
   "attachments": {},
   "cell_type": "markdown",
   "metadata": {},
   "source": [
    "#### 1.5 - Realización de gráficas a los datos para su análisis"
   ]
  },
  {
   "attachments": {},
   "cell_type": "markdown",
   "metadata": {},
   "source": [
    "<p style=\"text-align: justify;\">Todo entra por los ojos a través de imágenes, por eso los datos anteriormente analizados y procesados, se tomarán para graficarlos en diferentes tipos de visualización, para la toma adecuada de decisiones. </p>\n",
    "\n",
    "\"*Una imagen vale más que mil palabras*\""
   ]
  },
  {
   "attachments": {},
   "cell_type": "markdown",
   "metadata": {},
   "source": [
    "##### 1.5.1 - Gráfica de barras horizontal"
   ]
  },
  {
   "attachments": {},
   "cell_type": "markdown",
   "metadata": {},
   "source": [
    "<p style=\"text-align: justify;\">Una forma con Matplotlib</p>"
   ]
  },
  {
   "cell_type": "code",
   "execution_count": 7,
   "metadata": {},
   "outputs": [
    {
     "data": {
      "image/png": "[encoded data removed]",
      "text/plain": [
       "<Figure size 432x288 with 1 Axes>"
      ]
     },
     "metadata": {
      "needs_background": "light"
     },
     "output_type": "display_data"
    }
   ],
   "source": [
    "plt.barh(df['GASTO X MES'], df['MONTO'], color=['purple','purple','purple','purple','purple','purple','purple','purple','purple','purple','purple','purple']) # se ponen a graficar el dataframe tomando como referencia los \n",
    "plt.title('GASTOS EJECUTADOS POR MES - 2022')\n",
    "plt.xlabel('MONTO GASTADO')\n",
    "plt.ylabel('MES A EVALUAR')\n",
    "plt.show()"
   ]
  },
  {
   "attachments": {},
   "cell_type": "markdown",
   "metadata": {},
   "source": [
    "<p style=\"text-align: justify;\">Otra forma de varios colores con Seaborn</p>"
   ]
  },
  {
   "cell_type": "code",
   "execution_count": 8,
   "metadata": {},
   "outputs": [
    {
     "data": {
      "image/png": "[encoded data removed]",
      "text/plain": [
       "<Figure size 432x288 with 1 Axes>"
      ]
     },
     "metadata": {
      "needs_background": "light"
     },
     "output_type": "display_data"
    }
   ],
   "source": [
    "#Para sacarlos de varios colores\n",
    "plt.title('GASTOS EJECUTADOS POR MES - 2022')\n",
    "sns.barplot(x='MONTO',y='GASTO X MES',data=df);"
   ]
  },
  {
   "attachments": {},
   "cell_type": "markdown",
   "metadata": {},
   "source": [
    "<p style=\"text-align: justify;\">Otra forma con la librería Plotly para que se vea interactiva</p>"
   ]
  },
  {
   "cell_type": "code",
   "execution_count": 33,
   "metadata": {},
   "outputs": [
    {
     "data": {
      "application/vnd.plotly.v1+json": {
       "config": {
        "plotlyServerURL": "https://plot.ly"
       },
       "data": [
        {
         "alignmentgroup": "True",
         "hovertemplate": "MONTO=%{text}<br>GASTO X MES=%{y}<extra></extra>",
         "legendgroup": "",
         "marker": {
          "color": "#636efa",
          "pattern": {
           "shape": ""
          }
         },
         "name": "",
         "offsetgroup": "",
         "orientation": "h",
         "showlegend": false,
         "text": [
          886857,
          1963280,
          591890,
          997600,
          937420,
          1072995,
          2139441,
          1420911,
          1728680,
          2928550,
          1520022,
          2078970
         ],
         "textposition": "auto",
         "type": "bar",
         "x": [
          886857,
          1963280,
          591890,
          997600,
          937420,
          1072995,
          2139441,
          1420911,
          1728680,
          2928550,
          1520022,
          2078970
         ],
         "xaxis": "x",
         "y": [
          "MES ENERO",
          "MES FEBRERO",
          "MES MARZO",
          "MES ABRIL",
          "MES MAYO",
          "MES JUNIO",
          "MES JULIO",
          "MES AGOSTO",
          "MES SEPTIEMBRE",
          "MES OCTUBRE",
          "MES NOVIEMBRE",
          "MES DICIEMBRE"
         ],
         "yaxis": "y"
        }
       ],
       "layout": {
        "barmode": "relative",
        "legend": {
         "tracegroupgap": 0
        },
        "margin": {
         "t": 60
        },
        "template": {
         "data": {
          "bar": [
           {
            "error_x": {
             "color": "#2a3f5f"
            },
            "error_y": {
             "color": "#2a3f5f"
            },
            "marker": {
             "line": {
              "color": "#E5ECF6",
              "width": 0.5
             },
             "pattern": {
              "fillmode": "overlay",
              "size": 10,
              "solidity": 0.2
             }
            },
            "type": "bar"
           }
          ],
          "barpolar": [
           {
            "marker": {
             "line": {
              "color": "#E5ECF6",
              "width": 0.5
             },
             "pattern": {
              "fillmode": "overlay",
              "size": 10,
              "solidity": 0.2
             }
            },
            "type": "barpolar"
           }
          ],
          "carpet": [
           {
            "aaxis": {
             "endlinecolor": "#2a3f5f",
             "gridcolor": "white",
             "linecolor": "white",
             "minorgridcolor": "white",
             "startlinecolor": "#2a3f5f"
            },
            "baxis": {
             "endlinecolor": "#2a3f5f",
             "gridcolor": "white",
             "linecolor": "white",
             "minorgridcolor": "white",
             "startlinecolor": "#2a3f5f"
            },
            "type": "carpet"
           }
          ],
          "choropleth": [
           {
            "colorbar": {
             "outlinewidth": 0,
             "ticks": ""
            },
            "type": "choropleth"
           }
          ],
          "contour": [
           {
            "colorbar": {
             "outlinewidth": 0,
             "ticks": ""
            },
            "colorscale": [
             [
              0,
              "#0d0887"
             ],
             [
              0.1111111111111111,
              "#46039f"
             ],
             [
              0.2222222222222222,
              "#7201a8"
             ],
             [
              0.3333333333333333,
              "#9c179e"
             ],
             [
              0.4444444444444444,
              "#bd3786"
             ],
             [
              0.5555555555555556,
              "#d8576b"
             ],
             [
              0.6666666666666666,
              "#ed7953"
             ],
             [
              0.7777777777777778,
              "#fb9f3a"
             ],
             [
              0.8888888888888888,
              "#fdca26"
             ],
             [
              1,
              "#f0f921"
             ]
            ],
            "type": "contour"
           }
          ],
          "contourcarpet": [
           {
            "colorbar": {
             "outlinewidth": 0,
             "ticks": ""
            },
            "type": "contourcarpet"
           }
          ],
          "heatmap": [
           {
            "colorbar": {
             "outlinewidth": 0,
             "ticks": ""
            },
            "colorscale": [
             [
              0,
              "#0d0887"
             ],
             [
              0.1111111111111111,
              "#46039f"
             ],
             [
              0.2222222222222222,
              "#7201a8"
             ],
             [
              0.3333333333333333,
              "#9c179e"
             ],
             [
              0.4444444444444444,
              "#bd3786"
             ],
             [
              0.5555555555555556,
              "#d8576b"
             ],
             [
              0.6666666666666666,
              "#ed7953"
             ],
             [
              0.7777777777777778,
              "#fb9f3a"
             ],
             [
              0.8888888888888888,
              "#fdca26"
             ],
             [
              1,
              "#f0f921"
             ]
            ],
            "type": "heatmap"
           }
          ],
          "heatmapgl": [
           {
            "colorbar": {
             "outlinewidth": 0,
             "ticks": ""
            },
            "colorscale": [
             [
              0,
              "#0d0887"
             ],
             [
              0.1111111111111111,
              "#46039f"
             ],
             [
              0.2222222222222222,
              "#7201a8"
             ],
             [
              0.3333333333333333,
              "#9c179e"
             ],
             [
              0.4444444444444444,
              "#bd3786"
             ],
             [
              0.5555555555555556,
              "#d8576b"
             ],
             [
              0.6666666666666666,
              "#ed7953"
             ],
             [
              0.7777777777777778,
              "#fb9f3a"
             ],
             [
              0.8888888888888888,
              "#fdca26"
             ],
             [
              1,
              "#f0f921"
             ]
            ],
            "type": "heatmapgl"
           }
          ],
          "histogram": [
           {
            "marker": {
             "pattern": {
              "fillmode": "overlay",
              "size": 10,
              "solidity": 0.2
             }
            },
            "type": "histogram"
           }
          ],
          "histogram2d": [
           {
            "colorbar": {
             "outlinewidth": 0,
             "ticks": ""
            },
            "colorscale": [
             [
              0,
              "#0d0887"
             ],
             [
              0.1111111111111111,
              "#46039f"
             ],
             [
              0.2222222222222222,
              "#7201a8"
             ],
             [
              0.3333333333333333,
              "#9c179e"
             ],
             [
              0.4444444444444444,
              "#bd3786"
             ],
             [
              0.5555555555555556,
              "#d8576b"
             ],
             [
              0.6666666666666666,
              "#ed7953"
             ],
             [
              0.7777777777777778,
              "#fb9f3a"
             ],
             [
              0.8888888888888888,
              "#fdca26"
             ],
             [
              1,
              "#f0f921"
             ]
            ],
            "type": "histogram2d"
           }
          ],
          "histogram2dcontour": [
           {
            "colorbar": {
             "outlinewidth": 0,
             "ticks": ""
            },
            "colorscale": [
             [
              0,
              "#0d0887"
             ],
             [
              0.1111111111111111,
              "#46039f"
             ],
             [
              0.2222222222222222,
              "#7201a8"
             ],
             [
              0.3333333333333333,
              "#9c179e"
             ],
             [
              0.4444444444444444,
              "#bd3786"
             ],
             [
              0.5555555555555556,
              "#d8576b"
             ],
             [
              0.6666666666666666,
              "#ed7953"
             ],
             [
              0.7777777777777778,
              "#fb9f3a"
             ],
             [
              0.8888888888888888,
              "#fdca26"
             ],
             [
              1,
              "#f0f921"
             ]
            ],
            "type": "histogram2dcontour"
           }
          ],
          "mesh3d": [
           {
            "colorbar": {
             "outlinewidth": 0,
             "ticks": ""
            },
            "type": "mesh3d"
           }
          ],
          "parcoords": [
           {
            "line": {
             "colorbar": {
              "outlinewidth": 0,
              "ticks": ""
             }
            },
            "type": "parcoords"
           }
          ],
          "pie": [
           {
            "automargin": true,
            "type": "pie"
           }
          ],
          "scatter": [
           {
            "fillpattern": {
             "fillmode": "overlay",
             "size": 10,
             "solidity": 0.2
            },
            "type": "scatter"
           }
          ],
          "scatter3d": [
           {
            "line": {
             "colorbar": {
              "outlinewidth": 0,
              "ticks": ""
             }
            },
            "marker": {
             "colorbar": {
              "outlinewidth": 0,
              "ticks": ""
             }
            },
            "type": "scatter3d"
           }
          ],
          "scattercarpet": [
           {
            "marker": {
             "colorbar": {
              "outlinewidth": 0,
              "ticks": ""
             }
            },
            "type": "scattercarpet"
           }
          ],
          "scattergeo": [
           {
            "marker": {
             "colorbar": {
              "outlinewidth": 0,
              "ticks": ""
             }
            },
            "type": "scattergeo"
           }
          ],
          "scattergl": [
           {
            "marker": {
             "colorbar": {
              "outlinewidth": 0,
              "ticks": ""
             }
            },
            "type": "scattergl"
           }
          ],
          "scattermapbox": [
           {
            "marker": {
             "colorbar": {
              "outlinewidth": 0,
              "ticks": ""
             }
            },
            "type": "scattermapbox"
           }
          ],
          "scatterpolar": [
           {
            "marker": {
             "colorbar": {
              "outlinewidth": 0,
              "ticks": ""
             }
            },
            "type": "scatterpolar"
           }
          ],
          "scatterpolargl": [
           {
            "marker": {
             "colorbar": {
              "outlinewidth": 0,
              "ticks": ""
             }
            },
            "type": "scatterpolargl"
           }
          ],
          "scatterternary": [
           {
            "marker": {
             "colorbar": {
              "outlinewidth": 0,
              "ticks": ""
             }
            },
            "type": "scatterternary"
           }
          ],
          "surface": [
           {
            "colorbar": {
             "outlinewidth": 0,
             "ticks": ""
            },
            "colorscale": [
             [
              0,
              "#0d0887"
             ],
             [
              0.1111111111111111,
              "#46039f"
             ],
             [
              0.2222222222222222,
              "#7201a8"
             ],
             [
              0.3333333333333333,
              "#9c179e"
             ],
             [
              0.4444444444444444,
              "#bd3786"
             ],
             [
              0.5555555555555556,
              "#d8576b"
             ],
             [
              0.6666666666666666,
              "#ed7953"
             ],
             [
              0.7777777777777778,
              "#fb9f3a"
             ],
             [
              0.8888888888888888,
              "#fdca26"
             ],
             [
              1,
              "#f0f921"
             ]
            ],
            "type": "surface"
           }
          ],
          "table": [
           {
            "cells": {
             "fill": {
              "color": "#EBF0F8"
             },
             "line": {
              "color": "white"
             }
            },
            "header": {
             "fill": {
              "color": "#C8D4E3"
             },
             "line": {
              "color": "white"
             }
            },
            "type": "table"
           }
          ]
         },
         "layout": {
          "annotationdefaults": {
           "arrowcolor": "#2a3f5f",
           "arrowhead": 0,
           "arrowwidth": 1
          },
          "autotypenumbers": "strict",
          "coloraxis": {
           "colorbar": {
            "outlinewidth": 0,
            "ticks": ""
           }
          },
          "colorscale": {
           "diverging": [
            [
             0,
             "#8e0152"
            ],
            [
             0.1,
             "#c51b7d"
            ],
            [
             0.2,
             "#de77ae"
            ],
            [
             0.3,
             "#f1b6da"
            ],
            [
             0.4,
             "#fde0ef"
            ],
            [
             0.5,
             "#f7f7f7"
            ],
            [
             0.6,
             "#e6f5d0"
            ],
            [
             0.7,
             "#b8e186"
            ],
            [
             0.8,
             "#7fbc41"
            ],
            [
             0.9,
             "#4d9221"
            ],
            [
             1,
             "#276419"
            ]
           ],
           "sequential": [
            [
             0,
             "#0d0887"
            ],
            [
             0.1111111111111111,
             "#46039f"
            ],
            [
             0.2222222222222222,
             "#7201a8"
            ],
            [
             0.3333333333333333,
             "#9c179e"
            ],
            [
             0.4444444444444444,
             "#bd3786"
            ],
            [
             0.5555555555555556,
             "#d8576b"
            ],
            [
             0.6666666666666666,
             "#ed7953"
            ],
            [
             0.7777777777777778,
             "#fb9f3a"
            ],
            [
             0.8888888888888888,
             "#fdca26"
            ],
            [
             1,
             "#f0f921"
            ]
           ],
           "sequentialminus": [
            [
             0,
             "#0d0887"
            ],
            [
             0.1111111111111111,
             "#46039f"
            ],
            [
             0.2222222222222222,
             "#7201a8"
            ],
            [
             0.3333333333333333,
             "#9c179e"
            ],
            [
             0.4444444444444444,
             "#bd3786"
            ],
            [
             0.5555555555555556,
             "#d8576b"
            ],
            [
             0.6666666666666666,
             "#ed7953"
            ],
            [
             0.7777777777777778,
             "#fb9f3a"
            ],
            [
             0.8888888888888888,
             "#fdca26"
            ],
            [
             1,
             "#f0f921"
            ]
           ]
          },
          "colorway": [
           "#636efa",
           "#EF553B",
           "#00cc96",
           "#ab63fa",
           "#FFA15A",
           "#19d3f3",
           "#FF6692",
           "#B6E880",
           "#FF97FF",
           "#FECB52"
          ],
          "font": {
           "color": "#2a3f5f"
          },
          "geo": {
           "bgcolor": "white",
           "lakecolor": "white",
           "landcolor": "#E5ECF6",
           "showlakes": true,
           "showland": true,
           "subunitcolor": "white"
          },
          "hoverlabel": {
           "align": "left"
          },
          "hovermode": "closest",
          "mapbox": {
           "style": "light"
          },
          "paper_bgcolor": "white",
          "plot_bgcolor": "#E5ECF6",
          "polar": {
           "angularaxis": {
            "gridcolor": "white",
            "linecolor": "white",
            "ticks": ""
           },
           "bgcolor": "#E5ECF6",
           "radialaxis": {
            "gridcolor": "white",
            "linecolor": "white",
            "ticks": ""
           }
          },
          "scene": {
           "xaxis": {
            "backgroundcolor": "#E5ECF6",
            "gridcolor": "white",
            "gridwidth": 2,
            "linecolor": "white",
            "showbackground": true,
            "ticks": "",
            "zerolinecolor": "white"
           },
           "yaxis": {
            "backgroundcolor": "#E5ECF6",
            "gridcolor": "white",
            "gridwidth": 2,
            "linecolor": "white",
            "showbackground": true,
            "ticks": "",
            "zerolinecolor": "white"
           },
           "zaxis": {
            "backgroundcolor": "#E5ECF6",
            "gridcolor": "white",
            "gridwidth": 2,
            "linecolor": "white",
            "showbackground": true,
            "ticks": "",
            "zerolinecolor": "white"
           }
          },
          "shapedefaults": {
           "line": {
            "color": "#2a3f5f"
           }
          },
          "ternary": {
           "aaxis": {
            "gridcolor": "white",
            "linecolor": "white",
            "ticks": ""
           },
           "baxis": {
            "gridcolor": "white",
            "linecolor": "white",
            "ticks": ""
           },
           "bgcolor": "#E5ECF6",
           "caxis": {
            "gridcolor": "white",
            "linecolor": "white",
            "ticks": ""
           }
          },
          "title": {
           "x": 0.05
          },
          "xaxis": {
           "automargin": true,
           "gridcolor": "white",
           "linecolor": "white",
           "ticks": "",
           "title": {
            "standoff": 15
           },
           "zerolinecolor": "white",
           "zerolinewidth": 2
          },
          "yaxis": {
           "automargin": true,
           "gridcolor": "white",
           "linecolor": "white",
           "ticks": "",
           "title": {
            "standoff": 15
           },
           "zerolinecolor": "white",
           "zerolinewidth": 2
          }
         }
        },
        "title": {
         "text": "GASTOS EJECUTADOS POR MES - 2022"
        },
        "xaxis": {
         "anchor": "y",
         "domain": [
          0,
          1
         ],
         "title": {
          "text": "MONTO - UNIDADES MONETARIAS"
         }
        },
        "yaxis": {
         "anchor": "x",
         "domain": [
          0,
          1
         ],
         "title": {
          "text": "MES"
         }
        }
       }
      }
     },
     "metadata": {},
     "output_type": "display_data"
    }
   ],
   "source": [
    "fig = px.bar(df, x='MONTO', y='GASTO X MES', text='MONTO')#el metodo \"text\" es para añadir etiquetas al gráfico.\n",
    "\n",
    "#para añadir leyenda al gráfico\n",
    "fig.update_layout(\n",
    "    xaxis_title=\"MONTO - UNIDADES MONETARIAS\",\n",
    "    yaxis_title=\"MES\"\n",
    ")\n",
    "\n",
    "# Añadir un título al gráfico\n",
    "fig.update_layout(\n",
    "    title=\"GASTOS EJECUTADOS POR MES - 2022\"\n",
    ")\n",
    "\n",
    "#para ejecutar la grafica programada\n",
    "fig.show()"
   ]
  },
  {
   "attachments": {},
   "cell_type": "markdown",
   "metadata": {},
   "source": [
    "##### 1.5.2 - Gráfica de torta con sus respectivos porcentajes"
   ]
  },
  {
   "cell_type": "code",
   "execution_count": 10,
   "metadata": {},
   "outputs": [
    {
     "data": {
      "image/png": "[encoded data removed]",
      "text/plain": [
       "<Figure size 432x288 with 1 Axes>"
      ]
     },
     "metadata": {},
     "output_type": "display_data"
    }
   ],
   "source": [
    "explode = (0.10, 0.10, 0.15, 0.15, 0.15, 0.15, 0.15, 0.15, 0.15, 0.30, 0.05, 0.40)\n",
    "\n",
    "plt.pie(df['MONTO'],labels=df['GASTO X MES'], autopct=\"%0.1f%%\", pctdistance=0.85,explode=explode)\n",
    "plt.title(\"GASTOS EJECUTADOS POR MES AÑO 2022 - (POR VALOR PORCENTUAL)\")\n",
    "plt.show()"
   ]
  },
  {
   "attachments": {},
   "cell_type": "markdown",
   "metadata": {},
   "source": [
    "##### 1.5.3 - Gráfica tipo histograma"
   ]
  },
  {
   "cell_type": "code",
   "execution_count": 11,
   "metadata": {},
   "outputs": [
    {
     "data": {
      "image/png": "[encoded data removed]",
      "text/plain": [
       "<Figure size 432x288 with 1 Axes>"
      ]
     },
     "metadata": {
      "needs_background": "light"
     },
     "output_type": "display_data"
    }
   ],
   "source": [
    "#https://appgametutoriales.com/hacer-un-histograma-en-python/\n",
    "plt.hist(df['MONTO'],color = \"purple\",rwidth=0.9) # se ponen a graficar el dataframe tomando como referencia los \n",
    "plt.title('GASTOS EJECUTADOS POR MES - 2022')\n",
    "plt.xlabel('NUMEROS')\n",
    "plt.ylabel('FRECUENCIA')\n",
    "plt.show()"
   ]
  },
  {
   "attachments": {},
   "cell_type": "markdown",
   "metadata": {},
   "source": [
    "##### 1.5.4 - Gráfica tipo histograma sin color de fondo"
   ]
  },
  {
   "cell_type": "code",
   "execution_count": 12,
   "metadata": {},
   "outputs": [
    {
     "data": {
      "image/png": "[encoded data removed]",
      "text/plain": [
       "<Figure size 432x288 with 1 Axes>"
      ]
     },
     "metadata": {
      "needs_background": "light"
     },
     "output_type": "display_data"
    }
   ],
   "source": [
    "plt.hist(df['MONTO'],color = \"purple\",rwidth=0.9, histtype=\"step\") # se ponen a graficar el dataframe tomando como referencia los \n",
    "plt.title('GASTOS EJECUTADOS POR MES - 2022')#Se ele asigna titulo a la grafica\n",
    "plt.xlabel('NUMEROS')#etiqueta al eje X\n",
    "plt.ylabel('FRECUENCIA')#etiqueta al eje Y\n",
    "plt.show()#función para que plotee, dibuje o muestre los graficamente los datos a evaluar"
   ]
  },
  {
   "attachments": {},
   "cell_type": "markdown",
   "metadata": {},
   "source": [
    "##### 1.5.5 - Grafica de violín"
   ]
  },
  {
   "cell_type": "code",
   "execution_count": 13,
   "metadata": {},
   "outputs": [
    {
     "data": {
      "image/png": "[encoded data removed]",
      "text/plain": [
       "<Figure size 432x288 with 1 Axes>"
      ]
     },
     "metadata": {
      "needs_background": "light"
     },
     "output_type": "display_data"
    }
   ],
   "source": [
    "#Haciendo Gráfica de violín\n",
    "\n",
    "ax = sns.violinplot(\n",
    "    data=df,\n",
    "    x='MONTO', \n",
    "    y=\"GASTO X MES\",\n",
    "    \n",
    ")\n",
    "\n",
    "\n",
    "ax = sns.stripplot(\n",
    "    data=df,\n",
    "    x='MONTO', \n",
    "    y=\"GASTO X MES\",\n",
    "    hue='GASTO X MES' # leyenda o convención\n",
    ")"
   ]
  },
  {
   "attachments": {},
   "cell_type": "markdown",
   "metadata": {},
   "source": [
    "##### 1.5.6 - Gráfica tipo linea "
   ]
  },
  {
   "cell_type": "code",
   "execution_count": 14,
   "metadata": {},
   "outputs": [
    {
     "name": "stdout",
     "output_type": "stream",
     "text": [
      "Se muestra el grafico\n"
     ]
    },
    {
     "data": {
      "image/png": "[encoded data removed]",
      "text/plain": [
       "<Figure size 432x288 with 1 Axes>"
      ]
     },
     "metadata": {
      "needs_background": "light"
     },
     "output_type": "display_data"
    }
   ],
   "source": [
    "# gráfico de líneas utilizando matplotlib\n",
    "print(\"Se muestra el grafico\")\n",
    "fig, ax = plt.subplots()\n",
    "plt.xlabel(\"Monto Gastado\")\n",
    "plt.ylabel('Mes evaluado')\n",
    "ax.plot(df['MONTO'],df['GASTO X MES'], marker = \"D\",color='r')#EL MARKER ES PARA PONER LOS PUNTICOS EN LA PARTE DONDE SE MARCAN LOS DATOS. -https://matplotlib.org/stable/api/markers_api.html\n",
    "plt.title('GASTOS EJECUTADOS POR MES - 2022')\n",
    "plt.show()\n"
   ]
  },
  {
   "attachments": {},
   "cell_type": "markdown",
   "metadata": {},
   "source": [
    "##### 1.5.7 - Gráfica de dispersión\n"
   ]
  },
  {
   "cell_type": "code",
   "execution_count": 15,
   "metadata": {},
   "outputs": [
    {
     "data": {
      "text/plain": [
       "<seaborn.axisgrid.JointGrid at 0x18c2363a5f0>"
      ]
     },
     "execution_count": 15,
     "metadata": {},
     "output_type": "execute_result"
    },
    {
     "data": {
      "image/png": "[encoded data removed]",
      "text/plain": [
       "<Figure size 432x432 with 3 Axes>"
      ]
     },
     "metadata": {
      "needs_background": "light"
     },
     "output_type": "display_data"
    }
   ],
   "source": [
    "sns.jointplot(\n",
    "    data=df, x='MONTO', y=\"GASTO X MES\"\n",
    "    \n",
    ")"
   ]
  },
  {
   "attachments": {},
   "cell_type": "markdown",
   "metadata": {},
   "source": [
    "#### 1.6 - Aplicación técnicas estadisticas de tendencia central"
   ]
  },
  {
   "attachments": {},
   "cell_type": "markdown",
   "metadata": {},
   "source": [
    "<p style=\"text-align: justify;\">Se hace con el fin de calcular probabilidades, e ir a un análisis más detallados en los datos procesados.</p>"
   ]
  },
  {
   "attachments": {},
   "cell_type": "markdown",
   "metadata": {},
   "source": [
    "##### 1.6.1 - Calculo de la media o promedio"
   ]
  },
  {
   "cell_type": "code",
   "execution_count": 16,
   "metadata": {},
   "outputs": [
    {
     "name": "stdout",
     "output_type": "stream",
     "text": [
      "la media es: 1522218.0\n"
     ]
    }
   ],
   "source": [
    "#calculo de la media o promedio - https://blog.adrianistan.eu/estadistica-python-media-mediana-varianza-percentiles-parte-iii\n",
    "#La media aritmética se define como la suma de N elementos dividida entre N. Se trata una medida bastante conocida entre la gente, aunque tiene el inconveniente de que es muy susceptible a valores extremos.\n",
    "media=df[\"MONTO\"].mean()\n",
    "\n",
    "print(\"la media es:\", media)\n",
    "\n",
    "#esto quiere decir, si ponemos de una forma equitativa el gasto mensual, como maximo serían 1.522.218"
   ]
  },
  {
   "attachments": {},
   "cell_type": "markdown",
   "metadata": {},
   "source": [
    "##### 1.6.2 - Calculo de la mediana"
   ]
  },
  {
   "cell_type": "code",
   "execution_count": 17,
   "metadata": {},
   "outputs": [
    {
     "name": "stdout",
     "output_type": "stream",
     "text": [
      "La mediana es: 1470466.5\n"
     ]
    }
   ],
   "source": [
    "#calculo de la mediana -https://blog.adrianistan.eu/estadistica-python-media-mediana-varianza-percentiles-parte-iii\n",
    "#La mediana es el valor que dentro del conjunto de datos es menor que el 50% de los datos y mayor que el 50% restante.\n",
    "mediana=df[\"MONTO\"].median()\n",
    "\n",
    "print(\"La mediana es:\", mediana)"
   ]
  },
  {
   "attachments": {},
   "cell_type": "markdown",
   "metadata": {},
   "source": [
    "##### 1.6.3 - Calculo de la moda"
   ]
  },
  {
   "cell_type": "code",
   "execution_count": 18,
   "metadata": {},
   "outputs": [
    {
     "name": "stdout",
     "output_type": "stream",
     "text": [
      "La moda es: 0      591890\n",
      "1      886857\n",
      "2      937420\n",
      "3      997600\n",
      "4     1072995\n",
      "5     1420911\n",
      "6     1520022\n",
      "7     1728680\n",
      "8     1963280\n",
      "9     2078970\n",
      "10    2139441\n",
      "11    2928550\n",
      "Name: MONTO, dtype: int64\n"
     ]
    }
   ],
   "source": [
    "#Calculo de la moda - \n",
    "#La moda es el valor más repetido (solo aplicable a variables discretas).\n",
    "moda=df[\"MONTO\"].mode()\n",
    "print(\"La moda es:\", moda)"
   ]
  },
  {
   "attachments": {},
   "cell_type": "markdown",
   "metadata": {},
   "source": [
    "##### 1.6.4 - Calculo de Medidas de posición: cuartiles y percentiles"
   ]
  },
  {
   "cell_type": "code",
   "execution_count": 19,
   "metadata": {},
   "outputs": [
    {
     "name": "stdout",
     "output_type": "stream",
     "text": [
      "El cuartil y percentil es:  2133393.9\n"
     ]
    }
   ],
   "source": [
    "p90 = df[\"MONTO\"].quantile(0.9)\n",
    "print(\"El cuartil y percentil es: \", p90)\n",
    "\n",
    "#El concepto es igual al de mediana, salvo que aquí la división ya no es en el 50%. \n",
    "#El 25% de las observaciones es menor que el primer cuartil. \n",
    "#Los cuartiles abarcan el 25%, 50% y 75% de las observaciones. Los percentiles son una generalización con cualquier porcentaje."
   ]
  },
  {
   "attachments": {},
   "cell_type": "markdown",
   "metadata": {},
   "source": [
    "##### 1.6.5 - Medidas de asimetría"
   ]
  },
  {
   "cell_type": "code",
   "execution_count": 20,
   "metadata": {},
   "outputs": [
    {
     "name": "stdout",
     "output_type": "stream",
     "text": [
      "La asimetría es:  0.5526368964490085\n"
     ]
    }
   ],
   "source": [
    "asimetria = ss.skew(df[\"MONTO\"])#se calcula con el metodo skew\n",
    "print(\"La asimetría es: \", asimetria)\n",
    "\n",
    "#Para saber si los datos estan repartidos de forma simétrica existen varios coeficientes: Pearson, Fisher, Bowley-Yule, etc\n",
    "\n",
    "#Para no liarnos demasiado, podemos usar la función skew de SciPy.\n",
    "\n",
    "#Para valores cercanos a 0, la variable es simétrica. Si es positiva tiene cola a la derecha y si es negativa tiene cola a la izquierda.\n",
    "\n",
    "#Y con esto hemos visto los datos que se pueden extraer de una sola variable."
   ]
  },
  {
   "attachments": {},
   "cell_type": "markdown",
   "metadata": {},
   "source": [
    "##### 1.6.5.1 - Representando gráficamente la asimetría con los datos"
   ]
  },
  {
   "cell_type": "code",
   "execution_count": 21,
   "metadata": {},
   "outputs": [
    {
     "name": "stderr",
     "output_type": "stream",
     "text": [
      "c:\\Users\\wagne\\AppData\\Local\\Programs\\Python\\Python310\\lib\\site-packages\\seaborn\\distributions.py:2619: FutureWarning:\n",
      "\n",
      "`distplot` is a deprecated function and will be removed in a future version. Please adapt your code to use either `displot` (a figure-level function with similar flexibility) or `histplot` (an axes-level function for histograms).\n",
      "\n"
     ]
    },
    {
     "data": {
      "image/png": "[encoded data removed]",
      "text/plain": [
       "<Figure size 432x288 with 1 Axes>"
      ]
     },
     "metadata": {
      "needs_background": "light"
     },
     "output_type": "display_data"
    }
   ],
   "source": [
    "#Representación gráfica de la asimetría\n",
    "sns.distplot(df['MONTO']);"
   ]
  },
  {
   "attachments": {},
   "cell_type": "markdown",
   "metadata": {},
   "source": [
    "##### 1.6.5.2 - Curva de la asimetría"
   ]
  },
  {
   "cell_type": "code",
   "execution_count": 22,
   "metadata": {},
   "outputs": [
    {
     "data": {
      "text/plain": [
       "<AxesSubplot:xlabel='MONTO', ylabel='Density'>"
      ]
     },
     "execution_count": 22,
     "metadata": {},
     "output_type": "execute_result"
    },
    {
     "data": {
      "image/png": "[encoded data removed]",
      "text/plain": [
       "<Figure size 432x288 with 1 Axes>"
      ]
     },
     "metadata": {
      "needs_background": "light"
     },
     "output_type": "display_data"
    }
   ],
   "source": [
    "#La forma de la asimetría\n",
    "sns.kdeplot(df['MONTO'])"
   ]
  },
  {
   "attachments": {},
   "cell_type": "markdown",
   "metadata": {},
   "source": [
    "<p style=\"text-align: justify;\">Conclusión: ¡La asimetría tiene una tendencia a ser negativa!, Pero aún tiene valor positivo, ya que está cercano al cero (0)</p>\n"
   ]
  },
  {
   "attachments": {},
   "cell_type": "markdown",
   "metadata": {},
   "source": []
  },
  {
   "attachments": {},
   "cell_type": "markdown",
   "metadata": {},
   "source": [
    "##### 1.6.6 - Coeficiente de correlación"
   ]
  },
  {
   "cell_type": "code",
   "execution_count": 23,
   "metadata": {},
   "outputs": [
    {
     "data": {
      "text/html": [
       "<div>\n",
       "<style scoped>\n",
       "    .dataframe tbody tr th:only-of-type {\n",
       "        vertical-align: middle;\n",
       "    }\n",
       "\n",
       "    .dataframe tbody tr th {\n",
       "        vertical-align: top;\n",
       "    }\n",
       "\n",
       "    .dataframe thead th {\n",
       "        text-align: right;\n",
       "    }\n",
       "</style>\n",
       "<table border=\"1\" class=\"dataframe\">\n",
       "  <thead>\n",
       "    <tr style=\"text-align: right;\">\n",
       "      <th></th>\n",
       "      <th>MONTO</th>\n",
       "    </tr>\n",
       "  </thead>\n",
       "  <tbody>\n",
       "    <tr>\n",
       "      <th>MONTO</th>\n",
       "      <td>1.0</td>\n",
       "    </tr>\n",
       "  </tbody>\n",
       "</table>\n",
       "</div>"
      ],
      "text/plain": [
       "       MONTO\n",
       "MONTO    1.0"
      ]
     },
     "execution_count": 23,
     "metadata": {},
     "output_type": "execute_result"
    }
   ],
   "source": [
    "# Calculo del coeficiente de correlación que es es la medida específica que cuantifica la intensidad de la relación lineal entre dos variables en un análisis de correlación. En los informes de correlación, este coeficiente se simboliza con la r.\n",
    "df.corr()\n",
    "# por ende se da a entender que que el coeficiente es positivo, porque valores de ambas variables tienden a incrementarse juntos.\n",
    "\n"
   ]
  },
  {
   "attachments": {},
   "cell_type": "markdown",
   "metadata": {},
   "source": [
    "<p style=\"text-align: justify;\">Graficando el coeficiente con Seaborn</p>"
   ]
  },
  {
   "cell_type": "code",
   "execution_count": 24,
   "metadata": {},
   "outputs": [
    {
     "data": {
      "image/png": "[encoded data removed]",
      "text/plain": [
       "<Figure size 432x288 with 1 Axes>"
      ]
     },
     "metadata": {
      "needs_background": "light"
     },
     "output_type": "display_data"
    }
   ],
   "source": [
    "#Graficando el coeficiente\n",
    "sns.heatmap(df.corr(), annot= True, cmap='coolwarm', linewidths=5, linecolor='black', vmin=0.5,vmax=1,cbar=False);"
   ]
  },
  {
   "attachments": {},
   "cell_type": "markdown",
   "metadata": {},
   "source": [
    "##### 1.6.7 - Calculo de la covarianza"
   ]
  },
  {
   "cell_type": "code",
   "execution_count": 25,
   "metadata": {},
   "outputs": [
    {
     "data": {
      "text/html": [
       "<div>\n",
       "<style scoped>\n",
       "    .dataframe tbody tr th:only-of-type {\n",
       "        vertical-align: middle;\n",
       "    }\n",
       "\n",
       "    .dataframe tbody tr th {\n",
       "        vertical-align: top;\n",
       "    }\n",
       "\n",
       "    .dataframe thead th {\n",
       "        text-align: right;\n",
       "    }\n",
       "</style>\n",
       "<table border=\"1\" class=\"dataframe\">\n",
       "  <thead>\n",
       "    <tr style=\"text-align: right;\">\n",
       "      <th></th>\n",
       "      <th>MONTO</th>\n",
       "    </tr>\n",
       "  </thead>\n",
       "  <tbody>\n",
       "    <tr>\n",
       "      <th>MONTO</th>\n",
       "      <td>4.549404e+11</td>\n",
       "    </tr>\n",
       "  </tbody>\n",
       "</table>\n",
       "</div>"
      ],
      "text/plain": [
       "              MONTO\n",
       "MONTO  4.549404e+11"
      ]
     },
     "execution_count": 25,
     "metadata": {},
     "output_type": "execute_result"
    }
   ],
   "source": [
    "# Calculo de la covarianza que es La covarianza nos mide la covariación conjunta de dos variables: Si es positiva nos dará la información de que a valores altos de una de las variable hay una mayor tendencia a encontrar valores altos de la otra variable y a valores bajos de una de las variable ,correspondientemente valores bajos.\n",
    "df.cov()\n",
    "#se influye que es positiva porque incrementa, ya que hay numeros positivos"
   ]
  },
  {
   "attachments": {},
   "cell_type": "markdown",
   "metadata": {},
   "source": [
    "##### 1.6.8 - Calculo de la Varianza"
   ]
  },
  {
   "cell_type": "code",
   "execution_count": 26,
   "metadata": {},
   "outputs": [
    {
     "data": {
      "text/plain": [
       "454940429979.2727"
      ]
     },
     "execution_count": 26,
     "metadata": {},
     "output_type": "execute_result"
    }
   ],
   "source": [
    "# Calculo de la varianza que es la forma de como entender los datos en su dispersión y variabilidad, es decir si los valores están alejados y desviados o no de la media, por que si está alejado de esta.\n",
    "df['MONTO'].var()"
   ]
  },
  {
   "attachments": {},
   "cell_type": "markdown",
   "metadata": {},
   "source": [
    "\n",
    "<p style=\"text-align: justify;\">Se nota una mayor varianza, lo que se concluye que hay más dispersión o más alejamiento del valor reflejado en el valor de la media, que en el caso de estudio fue  1522218.0 </p>"
   ]
  },
  {
   "attachments": {},
   "cell_type": "markdown",
   "metadata": {},
   "source": [
    "##### 1.6.9 - Resumen estadístico"
   ]
  },
  {
   "cell_type": "code",
   "execution_count": 27,
   "metadata": {},
   "outputs": [
    {
     "data": {
      "text/plain": [
       "count    1.200000e+01\n",
       "mean     1.522218e+06\n",
       "std      6.744927e+05\n",
       "min      5.918900e+05\n",
       "25%      9.825550e+05\n",
       "50%      1.470466e+06\n",
       "75%      1.992202e+06\n",
       "max      2.928550e+06\n",
       "Name: MONTO, dtype: float64"
      ]
     },
     "execution_count": 27,
     "metadata": {},
     "output_type": "execute_result"
    }
   ],
   "source": [
    "# Realización de un resumen estadístico del DataFrame\n",
    "df['MONTO'].describe()"
   ]
  },
  {
   "attachments": {},
   "cell_type": "markdown",
   "metadata": {},
   "source": [
    "##### 1.6.10 - Calculo de la derivación estandar"
   ]
  },
  {
   "cell_type": "code",
   "execution_count": 28,
   "metadata": {},
   "outputs": [
    {
     "name": "stderr",
     "output_type": "stream",
     "text": [
      "C:\\Users\\wagne\\AppData\\Local\\Temp\\ipykernel_12004\\2795832978.py:2: FutureWarning:\n",
      "\n",
      "Dropping of nuisance columns in DataFrame reductions (with 'numeric_only=None') is deprecated; in a future version this will raise TypeError.  Select only valid columns before calling the reduction.\n",
      "\n"
     ]
    },
    {
     "data": {
      "text/plain": [
       "MONTO    674492.720479\n",
       "dtype: float64"
      ]
     },
     "execution_count": 28,
     "metadata": {},
     "output_type": "execute_result"
    }
   ],
   "source": [
    "#Calculo de la derivación estandar, que es una media de dispersion de datos que cuanto mayor sea la dispersión de los datos, mayor es la desviación estandar.\n",
    "df.std()"
   ]
  },
  {
   "attachments": {},
   "cell_type": "markdown",
   "metadata": {},
   "source": [
    "##### 1.6.11 - Descripción del DataFrame"
   ]
  },
  {
   "cell_type": "code",
   "execution_count": 29,
   "metadata": {},
   "outputs": [
    {
     "name": "stdout",
     "output_type": "stream",
     "text": [
      "<class 'pandas.core.frame.DataFrame'>\n",
      "RangeIndex: 12 entries, 0 to 11\n",
      "Data columns (total 2 columns):\n",
      " #   Column       Non-Null Count  Dtype \n",
      "---  ------       --------------  ----- \n",
      " 0   GASTO X MES  12 non-null     object\n",
      " 1   MONTO        12 non-null     int64 \n",
      "dtypes: int64(1), object(1)\n",
      "memory usage: 320.0+ bytes\n"
     ]
    }
   ],
   "source": [
    "#Consultar la información y /o descripción del DataFrame\n",
    "df.info() "
   ]
  },
  {
   "attachments": {},
   "cell_type": "markdown",
   "metadata": {},
   "source": [
    "##### 1.6.12 - Conteo de los indices del DataFrame"
   ]
  },
  {
   "cell_type": "code",
   "execution_count": 30,
   "metadata": {},
   "outputs": [
    {
     "data": {
      "text/plain": [
       "GASTO X MES    12\n",
       "MONTO          12\n",
       "dtype: int64"
      ]
     },
     "execution_count": 30,
     "metadata": {},
     "output_type": "execute_result"
    }
   ],
   "source": [
    "# Conteo de Indices o filas con datos en el DataFrame\n",
    "df.count()"
   ]
  },
  {
   "attachments": {},
   "cell_type": "markdown",
   "metadata": {},
   "source": [
    "### 2 - Conclusiones del analisis"
   ]
  },
  {
   "attachments": {},
   "cell_type": "markdown",
   "metadata": {},
   "source": [
    " <p style=\"text-align: justify;\">-Mucho gasto en el mes de octubre, por plan vacacional y traida del carro a Florencia - Caquetá, ya que hubieron gastos extra por peajes, los cuales no se tenían previstos.</p>\n",
    " <p style=\"text-align: justify;\">-Se compara diciembre con mitad de año y se observa un menor gasto a fin de año, por termino del proyecto academico (Carrera profesional).</p>\n",
    " <p style=\"text-align: justify;\">-En el mes de febrero, se ve reflejado la ida de cindy para Cucuta - Norte de Santander a visitar su padre (Q.E.P.D).</p>\n",
    " <p style=\"text-align: justify;\">-En el mes de marzo, fue donde menos se gastó, ya que hubo apoyo economico por parte de cindy.</p>\n",
    " <p style=\"text-align: justify;\">-Hay una asimetría con tendencia negativa, desviandose del eje de la asimetría.</p>\n",
    "\n",
    "<p style=\"text-align: justify;\">Conforme a lo anterior, se tomarán las siguientes decisiones:</p>\n",
    "\n",
    "<p style=\"text-align: justify;\">*Ahorrar para salir a vacaciones para cubrir esos gastos adicionales.</p>\n",
    "\n",
    "<p style=\"text-align: justify;\">*Hacer cotizaciones y hacerlo con buen tiempo.</p>\n",
    "\n",
    "<p style=\"text-align: justify;\">*Proyección de un plan de ahorro de emergencia.</p>"
   ]
  },
  {
   "attachments": {},
   "cell_type": "markdown",
   "metadata": {},
   "source": [
    "### 3 - Referencias Bibliográficas"
   ]
  },
  {
   "attachments": {},
   "cell_type": "markdown",
   "metadata": {},
   "source": [
    "\n",
    "Estadística en Python: media, mediana, varianza, percentiles (Parte III). (2017, 4 noviembre). Adrianistán. https://blog.adrianistan.eu/estadistica-python-media-mediana-varianza-percentiles-parte-iii\n",
    "\n",
    "Admin, A. (2021, 20 julio). Hacer un histograma en Python. App Game Tutoriales. Recuperado 12 de diciembre de 2022, de https://appgametutoriales.com/hacer-un-histograma-en-python/\n",
    "\n",
    "Briega, L. R. E. (2016, 13 marzo). Análisis de datos cuantitativos con Python. https://relopezbriega.github.io/blog/2016/03/13/analisis-de-datos-cuantitativos-con-python/\n",
    "\n",
    "Bruce, A., Bruce, A., & Gedeck, P. (2020). Practical Statistics for Data Scientists: 50+ Essential Concepts Using R and Python. O’Reilly.\n",
    "\n",
    "McKinney, W. (2013). Python for Data Analysis. Van Duuren Media.\n",
    "\n",
    "Vanderplas, J., & VanderPlas, J. (2016). Python Data Science Handbook: Essential Tools for Working with Data. Van Duuren Media.\n",
    "\n",
    "Roldán, R. C., Martín, E. M., & Rodríguez, A. R. (2019). Big data con Python: recolección, almacenamiento y proceso. Alfaomega.\n",
    "\n",
    "\n"
   ]
  }
 ],
 "metadata": {
  "kernelspec": {
   "display_name": "Python 3",
   "language": "python",
   "name": "python3"
  },
  "language_info": {
   "codemirror_mode": {
    "name": "ipython",
    "version": 3
   },
   "file_extension": ".py",
   "mimetype": "text/x-python",
   "name": "python",
   "nbconvert_exporter": "python",
   "pygments_lexer": "ipython3",
   "version": "3.10.5"
  },
  "orig_nbformat": 4,
  "vscode": {
   "interpreter": {
    "hash": "bb16339d622d833763448844aa3d62a845dc5e8ebd6d4523acfdc29f21243b06"
   }
  }
 },
 "nbformat": 4,
 "nbformat_minor": 2
}
